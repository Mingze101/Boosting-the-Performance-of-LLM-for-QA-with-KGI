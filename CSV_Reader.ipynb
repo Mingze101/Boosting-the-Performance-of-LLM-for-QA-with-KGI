{
 "cells": [
  {
   "cell_type": "code",
   "execution_count": 2,
   "id": "initial_id",
   "metadata": {
    "collapsed": true,
    "ExecuteTime": {
     "end_time": "2023-12-13T11:21:16.045223600Z",
     "start_time": "2023-12-13T11:21:15.468592700Z"
    }
   },
   "outputs": [],
   "source": [
    "import pandas as pd\n",
    "import os"
   ]
  },
  {
   "cell_type": "code",
   "execution_count": 3,
   "outputs": [],
   "source": [
    "def convert_csv_to_normal_columns(file_path):\n",
    "    try:\n",
    "        # 读取文件，假设整个文件是单列数据\n",
    "        df = pd.read_csv(file_path, sep='|', engine='python', encoding='utf-8', header=None)\n",
    "\n",
    "        # 假设第一行包含列名，用逗号分隔\n",
    "        column_names = df.iloc[0, 0].split(',')\n",
    "\n",
    "        # 去除包含列名的第一行\n",
    "        df = df.drop(0)\n",
    "\n",
    "        # 创建一个新的 DataFrame，每个逗号分隔的值作为一列\n",
    "        new_df = pd.DataFrame(df[0].apply(lambda x: x.split(',')).tolist(), columns=column_names)\n",
    "\n",
    "        return new_df\n",
    "\n",
    "    except Exception as e:\n",
    "        print(f\"Error processing file {file_path}: {e}\")\n",
    "        return None"
   ],
   "metadata": {
    "collapsed": false,
    "ExecuteTime": {
     "end_time": "2023-12-13T11:21:16.059475300Z",
     "start_time": "2023-12-13T11:21:16.046223400Z"
    }
   },
   "id": "5b6c0395122e3d8f"
  },
  {
   "cell_type": "code",
   "execution_count": 4,
   "outputs": [
    {
     "name": "stdout",
     "output_type": "stream",
     "text": [
      "              id sessionId timestamp    x      y     z\n",
      "0              1         1        12  153  -3543  2255\n",
      "1              2         1        52  153  -3501  2267\n",
      "2              3         1        92  158  -3498  2225\n",
      "3              4         1       133  152  -3543  2269\n",
      "4              5         1       173  148  -3542  2271\n",
      "...          ...       ...       ...  ...    ...   ...\n",
      "3512877  3512878        23   9535822  186    248  4126\n",
      "3512878  3512879        23   9535862  181    267  4141\n",
      "3512879  3512880        23   9535902  176    272  4152\n",
      "3512880  3512881        23   9535942  210    254  4142\n",
      "3512881  3512882        23   9535983  187    268  4138\n",
      "\n",
      "[3512882 rows x 6 columns]\n"
     ]
    }
   ],
   "source": [
    "# 使用示例\n",
    "file_path = r'C:\\Users\\Li\\Desktop\\Engineering Interactive Systems AI & Wearables\\data\\Dataset\\final\\AccelerometerMeasurement.csv'  # 替换为你的文件夹路径\n",
    "AccelerometerMeasurement_df = convert_csv_to_normal_columns(file_path)\n",
    "\n",
    "# 输出合并后的 DataFrame\n",
    "print(AccelerometerMeasurement_df)"
   ],
   "metadata": {
    "collapsed": false,
    "ExecuteTime": {
     "end_time": "2023-12-13T11:21:26.825520900Z",
     "start_time": "2023-12-13T11:21:16.061707700Z"
    }
   },
   "id": "a54a377fd46334e"
  },
  {
   "cell_type": "code",
   "execution_count": 5,
   "outputs": [
    {
     "name": "stdout",
     "output_type": "stream",
     "text": [
      "      id sessionId timestamp                       action\n",
      "0      1         1   5191000             911 Operator End\n",
      "1      2         1   3331000           911 Operator Start\n",
      "2      3         1   2551000     You have too many alarms\n",
      "3      4         1   1591000        Long reaction problem\n",
      "4      5         1   1171000  Overcurrent – Fix the Motor\n",
      "..   ...       ...       ...                          ...\n",
      "124  125        23   5915000             911 Operator End\n",
      "125  126        23   3215000           911 Operator Start\n",
      "126  127        23   2015000               Flush Reactors\n",
      "127  128        23    635000                Slow Reaction\n",
      "128  129        23     35000             Alarm Track Down\n",
      "\n",
      "[129 rows x 4 columns]\n"
     ]
    }
   ],
   "source": [
    "file_path = r'C:\\Users\\Li\\Desktop\\Engineering Interactive Systems AI & Wearables\\data\\Dataset\\final\\EventData.csv'  # 替换为你的文件夹路径\n",
    "EventData_df = convert_csv_to_normal_columns(file_path)\n",
    "\n",
    "# 输出合并后的 DataFrame\n",
    "print(EventData_df)\n"
   ],
   "metadata": {
    "collapsed": false,
    "ExecuteTime": {
     "end_time": "2023-12-13T11:21:26.870005200Z",
     "start_time": "2023-12-13T11:21:26.826522600Z"
    }
   },
   "id": "b04e33e7d3af46a6"
  },
  {
   "cell_type": "code",
   "execution_count": 6,
   "outputs": [
    {
     "name": "stdout",
     "output_type": "stream",
     "text": [
      "              id sessionId timestamp LeftEyeValidity LeftEyeX LeftEyeY  \\\n",
      "0              1         1         9           Valid      957      509   \n",
      "1              2         1        20           Valid      952      507   \n",
      "2              3         1        31           Valid      955      512   \n",
      "3              4         1        43           Valid      952      512   \n",
      "4              5         1        53           Valid      951      509   \n",
      "...          ...       ...       ...             ...      ...      ...   \n",
      "6725166  6725167        23   5935948           Valid      993      532   \n",
      "6725167  6725168        23   5935960           Valid      994      529   \n",
      "6725168  6725169        23   5935971           Valid      996      531   \n",
      "6725169  6725170        23   5935982           Valid      992      536   \n",
      "6725170  6725171        23   5935994           Valid      993      541   \n",
      "\n",
      "        RightEyeValidity RightEyeX RightEyeY  \n",
      "0                  Valid       947       509  \n",
      "1                  Valid       948       514  \n",
      "2                  Valid       949       512  \n",
      "3                  Valid       948       517  \n",
      "4                  Valid       943       511  \n",
      "...                  ...       ...       ...  \n",
      "6725166            Valid      1003       519  \n",
      "6725167            Valid      1001       524  \n",
      "6725168            Valid       996       515  \n",
      "6725169            Valid       996       515  \n",
      "6725170            Valid       997       510  \n",
      "\n",
      "[6725171 rows x 9 columns]\n"
     ]
    }
   ],
   "source": [
    "file_path = r'C:\\Users\\Li\\Desktop\\Engineering Interactive Systems AI & Wearables\\data\\Dataset\\final\\EyeTrackingData.csv'  # 替换为你的文件夹路径\n",
    "EyeTrackingData_df = convert_csv_to_normal_columns(file_path)\n",
    "\n",
    "# 输出合并后的 DataFrame\n",
    "print(EyeTrackingData_df)\n"
   ],
   "metadata": {
    "collapsed": false,
    "ExecuteTime": {
     "end_time": "2023-12-13T11:22:13.434064400Z",
     "start_time": "2023-12-13T11:21:26.843211300Z"
    }
   },
   "id": "89f0cbc233a9176"
  },
  {
   "cell_type": "code",
   "execution_count": 7,
   "outputs": [
    {
     "name": "stdout",
     "output_type": "stream",
     "text": [
      "            id sessionId timestamp   hr hrIbi hrStatus ibiStatus\n",
      "0            1         1       249    0   238      -10         0\n",
      "1            2         1      1249    0   268      -10         1\n",
      "2            3         1      2249    0   273      -10         1\n",
      "3            4         1      3249  111   287        1         1\n",
      "4            5         1      4249  111   305        1         1\n",
      "...        ...       ...       ...  ...   ...      ...       ...\n",
      "107566  107567        23   5931521   77   513        1         0\n",
      "107567  107568        23   5932521   79   513        1         0\n",
      "107568  107569        23   5933521   80  2040        1         0\n",
      "107569  107570        23   5934521   80   549        1         0\n",
      "107570  107571        23   5935521   79   549        1         0\n",
      "\n",
      "[107571 rows x 7 columns]\n"
     ]
    }
   ],
   "source": [
    "file_path = r'C:\\Users\\Li\\Desktop\\Engineering Interactive Systems AI & Wearables\\data\\Dataset\\final\\HeartRateMeasurement.csv'  # 替换为你的文件夹路径\n",
    "HeartRateMeasurement_df = convert_csv_to_normal_columns(file_path)\n",
    "\n",
    "# 输出合并后的 DataFrame\n",
    "print(HeartRateMeasurement_df)\n"
   ],
   "metadata": {
    "collapsed": false,
    "ExecuteTime": {
     "end_time": "2023-12-13T11:22:13.917832300Z",
     "start_time": "2023-12-13T11:22:13.441648300Z"
    }
   },
   "id": "ce4344b1a8be29eb"
  },
  {
   "cell_type": "code",
   "execution_count": 8,
   "outputs": [
    {
     "name": "stdout",
     "output_type": "stream",
     "text": [
      "      id sessionId timeOfNotification timeOfEngagement timeOfCompletion  \\\n",
      "0      1         1             734622           770309           781243   \n",
      "1      2         1            1715900          1722135          1772399   \n",
      "2      3         1            2736948          2743236          2751725   \n",
      "3      4         1            3009154          3039249          3043806   \n",
      "4      5         1            3703141          3748042          3752976   \n",
      "..   ...       ...                ...              ...              ...   \n",
      "140  141        23            3007192          3025269          3032011   \n",
      "141  142        23            3851971          3857265          3861143   \n",
      "142  143        23            4009618          4016934          4023856   \n",
      "143  144        23            5122093                0                0   \n",
      "144  145        23            5122110          5126339          5130881   \n",
      "\n",
      "      valence arousal  \n",
      "0    POSITIVE  MEDIUM  \n",
      "1    NEGATIVE    HIGH  \n",
      "2    NEGATIVE  MEDIUM  \n",
      "3     NEUTRAL  MEDIUM  \n",
      "4     NEUTRAL  MEDIUM  \n",
      "..        ...     ...  \n",
      "140  NEGATIVE    HIGH  \n",
      "141  POSITIVE  MEDIUM  \n",
      "142   NEUTRAL    HIGH  \n",
      "143      NONE    NONE  \n",
      "144  POSITIVE    HIGH  \n",
      "\n",
      "[145 rows x 7 columns]\n"
     ]
    }
   ],
   "source": [
    "file_path = r'C:\\Users\\Li\\Desktop\\Engineering Interactive Systems AI & Wearables\\data\\Dataset\\final\\LabelData.csv'  # 替换为你的文件夹路径\n",
    "LabelData_df = convert_csv_to_normal_columns(file_path)\n",
    "\n",
    "# 输出合并后的 DataFrame\n",
    "print(LabelData_df)\n"
   ],
   "metadata": {
    "collapsed": false,
    "ExecuteTime": {
     "end_time": "2023-12-13T11:22:13.965040500Z",
     "start_time": "2023-12-13T11:22:13.919793400Z"
    }
   },
   "id": "25f1bbef18d1ea2d"
  },
  {
   "cell_type": "code",
   "execution_count": 9,
   "outputs": [
    {
     "name": "stdout",
     "output_type": "stream",
     "text": [
      "          id sessionId timestamp    action     X     Y\n",
      "0          1         1      1326  LeftDown   980   647\n",
      "1          2         1     11061  LeftDown  1812   160\n",
      "2          3         1     13261  LeftDown   372   273\n",
      "3          4         1     16693  LeftDown   184   563\n",
      "4          5         1     16814  LeftDown   184   563\n",
      "...      ...       ...       ...       ...   ...   ...\n",
      "16023  16024        23   5905619  LeftDown   908  1069\n",
      "16024  16025        23   5929716  LeftDown   672  1190\n",
      "16025  16026        23   5931301  LeftDown   479  1165\n",
      "16026  16027        23   5933077  LeftDown   719  1190\n",
      "16027  16028        23   5934604  LeftDown   868   481\n",
      "\n",
      "[16028 rows x 6 columns]\n"
     ]
    }
   ],
   "source": [
    "file_path = r'C:\\Users\\Li\\Desktop\\Engineering Interactive Systems AI & Wearables\\data\\Dataset\\final\\MouseClickEvent.csv'  # 替换为你的文件夹路径\n",
    "MouseClickEvent_df = convert_csv_to_normal_columns(file_path)\n",
    "\n",
    "# 输出合并后的 DataFrame\n",
    "print(MouseClickEvent_df)\n"
   ],
   "metadata": {
    "collapsed": false,
    "ExecuteTime": {
     "end_time": "2023-12-13T11:22:14.024545300Z",
     "start_time": "2023-12-13T11:22:13.934722300Z"
    }
   },
   "id": "180da55b42290490"
  },
  {
   "cell_type": "code",
   "execution_count": 10,
   "outputs": [
    {
     "name": "stdout",
     "output_type": "stream",
     "text": [
      "              id sessionId timestamp     X    Y\n",
      "0              1         1        71   312  598\n",
      "1              2         1       179   469  611\n",
      "2              3         1       287   650  636\n",
      "3              4         1       398   847  667\n",
      "4              5         1       505  1071  675\n",
      "...          ...       ...       ...   ...  ...\n",
      "1119540  1119541        23   5935472   878  495\n",
      "1119541  1119542        23   5935582   878  497\n",
      "1119542  1119543        23   5935693   896  499\n",
      "1119543  1119544        23   5935802   917  505\n",
      "1119544  1119545        23   5935910   981  526\n",
      "\n",
      "[1119545 rows x 5 columns]\n"
     ]
    }
   ],
   "source": [
    "file_path = r'C:\\Users\\Li\\Desktop\\Engineering Interactive Systems AI & Wearables\\data\\Dataset\\final\\MouseMovement.csv'  # 替换为你的文件夹路径\n",
    "MouseMovement_df = convert_csv_to_normal_columns(file_path)\n",
    "\n",
    "# 输出合并后的 DataFrame\n",
    "print(MouseMovement_df)\n"
   ],
   "metadata": {
    "collapsed": false,
    "ExecuteTime": {
     "end_time": "2023-12-13T11:22:19.942200900Z",
     "start_time": "2023-12-13T11:22:14.025545500Z"
    }
   },
   "id": "5af8ce7f45496f6f"
  },
  {
   "cell_type": "code",
   "execution_count": 11,
   "outputs": [
    {
     "name": "stdout",
     "output_type": "stream",
     "text": [
      "              id sessionId timestamp    value\n",
      "0              1         1        12  1677470\n",
      "1              2         1        52  1677477\n",
      "2              3         1        92  1677500\n",
      "3              4         1       133  1677502\n",
      "4              5         1       173  1677533\n",
      "...          ...       ...       ...      ...\n",
      "2711418  2711419        23   5935802  2068023\n",
      "2711419  2711420        23   5935843  2068157\n",
      "2711420  2711421        23   5935882  2068294\n",
      "2711421  2711422        23   5935922  2068447\n",
      "2711422  2711423        23   5935963  2068590\n",
      "\n",
      "[2711423 rows x 4 columns]\n"
     ]
    }
   ],
   "source": [
    "file_path = r'C:\\Users\\Li\\Desktop\\Engineering Interactive Systems AI & Wearables\\data\\Dataset\\final\\PpgGreenMeasurement.csv'  # 替换为你的文件夹路径\n",
    "PpgGreenMeasurement_df = convert_csv_to_normal_columns(file_path)\n",
    "\n",
    "# 输出合并后的 DataFrame\n",
    "print(PpgGreenMeasurement_df)\n"
   ],
   "metadata": {
    "collapsed": false,
    "ExecuteTime": {
     "end_time": "2023-12-13T11:22:31.565438600Z",
     "start_time": "2023-12-13T11:22:19.945204300Z"
    }
   },
   "id": "aa9b74e8b1fe8308"
  },
  {
   "cell_type": "code",
   "execution_count": 12,
   "outputs": [
    {
     "name": "stdout",
     "output_type": "stream",
     "text": [
      "    id duration\n",
      "0    1  5170000\n",
      "1    2  5566000\n",
      "2    3  6445000\n",
      "3    4  6111000\n",
      "4    5  4491000\n",
      "5    6  5449000\n",
      "6    7  5410000\n",
      "7    8  5224000\n",
      "8    9  6236000\n",
      "9   10  4797000\n",
      "10  11  5739000\n",
      "11  12  4674000\n",
      "12  13  5657000\n",
      "13  14  5495000\n",
      "14  15  3791000\n",
      "15  16  6069000\n",
      "16  17  5085000\n",
      "17  18  4328000\n",
      "18  19  5656000\n",
      "19  20  5331000\n",
      "20  21  3816000\n",
      "21  22  4913000\n",
      "22  23  5936000\n"
     ]
    }
   ],
   "source": [
    "file_path = r'C:\\Users\\Li\\Desktop\\Engineering Interactive Systems AI & Wearables\\data\\Dataset\\final\\SessionData.csv'  # 替换为你的文件夹路径\n",
    "SessionData_df = convert_csv_to_normal_columns(file_path)\n",
    "\n",
    "# 输出合并后的 DataFrame\n",
    "print(SessionData_df)\n"
   ],
   "metadata": {
    "collapsed": false,
    "ExecuteTime": {
     "end_time": "2023-12-13T11:22:31.610754Z",
     "start_time": "2023-12-13T11:22:31.566439800Z"
    }
   },
   "id": "b87c418b17ceea05"
  },
  {
   "cell_type": "code",
   "execution_count": 13,
   "outputs": [],
   "source": [
    "df_list = [AccelerometerMeasurement_df,EventData_df,EyeTrackingData_df,HeartRateMeasurement_df,LabelData_df,MouseClickEvent_df,MouseMovement_df,PpgGreenMeasurement_df,SessionData_df]\n",
    "df_names = ['AccelerometerMeasurement_df', 'EventData_df', 'EyeTrackingData_df','HeartRateMeasurement_df','LabelData_df','MouseClickEvent_df','MouseMovement_df','PpgGreenMeasurement_df','SessionData_df']  # DataFrame 对应的名称\n",
    "\n",
    "# 指定保存 CSV 文件的路径\n",
    "path =  r'C:\\Users\\Li\\Desktop\\Engineering Interactive Systems AI & Wearables\\data\\Dataset\\final'  # 例如 'C:/Users/YourName/Documents/'"
   ],
   "metadata": {
    "collapsed": false,
    "ExecuteTime": {
     "end_time": "2023-12-13T11:22:50.605498900Z",
     "start_time": "2023-12-13T11:22:31.586077600Z"
    }
   },
   "id": "8cd19c232d6ecbf5"
  },
  {
   "cell_type": "markdown",
   "source": [],
   "metadata": {
    "collapsed": false
   },
   "id": "d673b789896b1a18"
  },
  {
   "cell_type": "code",
   "execution_count": 42,
   "outputs": [],
   "source": [
    "import seaborn as sns\n",
    "import numpy as np\n",
    "import matplotlib.pyplot as plt\n",
    "def generate_heatmap(df, df_name, save_path):\n",
    "    \"\"\"\n",
    "    Generate a heatmap for the numeric columns of a specified DataFrame and save it to a given path.\n",
    "    \n",
    "    :param df: pandas DataFrame containing the data.\n",
    "    :param df_name: Name of the DataFrame, used for generating the file name.\n",
    "    :param save_path: Path to save the image, including the file name and extension.\n",
    "    \"\"\"\n",
    "    if df.empty:\n",
    "        raise ValueError(\"DataFrame is empty\")\n",
    "\n",
    "    # Attempt to convert columns to numeric\n",
    "    df = df.apply(pd.to_numeric, errors='ignore')\n",
    "\n",
    "    # Filter out non-numeric columns\n",
    "    numeric_cols = df.select_dtypes(include=[np.number]).columns.tolist()\n",
    "\n",
    "    if not numeric_cols:\n",
    "        raise ValueError(\"No numeric columns available for correlation\")\n",
    "\n",
    "    # Compute the correlation matrix\n",
    "    heatmap_data = df[numeric_cols].corr()\n",
    "\n",
    "    # Create the heatmap\n",
    "    plt.figure(figsize=(10, 8))\n",
    "    sns.heatmap(heatmap_data, annot=True, cmap='coolwarm')\n",
    "\n",
    "    # Construct the full file save path\n",
    "    full_save_path = save_path + \"/\" + df_name + \".png\"\n",
    "\n",
    "    # Save the image\n",
    "    plt.savefig(full_save_path)\n",
    "\n",
    "    # Close the plot\n",
    "    plt.close()"
   ],
   "metadata": {
    "collapsed": false,
    "ExecuteTime": {
     "end_time": "2023-12-13T11:54:52.054087700Z",
     "start_time": "2023-12-13T11:54:52.043084400Z"
    }
   },
   "id": "f8a4ae4dfdcdc450"
  },
  {
   "cell_type": "code",
   "execution_count": 43,
   "outputs": [],
   "source": [
    "path =  r'C:\\Users\\Li\\Desktop\\Engineering Interactive Systems AI & Wearables\\data\\Dataset\\final' \n",
    "\n",
    "for df,name in zip(df_list, df_names):\n",
    "    generate_heatmap(df,name,path)\n",
    "\n",
    "\n"
   ],
   "metadata": {
    "collapsed": false,
    "ExecuteTime": {
     "end_time": "2023-12-13T11:55:45.630042700Z",
     "start_time": "2023-12-13T11:54:52.571495100Z"
    }
   },
   "id": "98efd58999c6011"
  },
  {
   "cell_type": "code",
   "execution_count": 46,
   "outputs": [
    {
     "data": {
      "text/plain": "<Figure size 1000x800 with 2 Axes>",
      "image/png": "[encoded data removed]"
     },
     "metadata": {},
     "output_type": "display_data"
    }
   ],
   "source": [
    "import pandas as pd\n",
    "import numpy as np\n",
    "import seaborn as sns\n",
    "import matplotlib.pyplot as plt\n",
    "\n",
    "def generate_attention_heatmap(df, x_col, y_col, grid_size=(100, 100), cmap='coolwarm'):\n",
    "    \"\"\"\n",
    "    Generate an attention heatmap from specified coordinate columns in a DataFrame.\n",
    "\n",
    "    :param df: pandas DataFrame containing the data.\n",
    "    :param x_col: Column name for the x-axis coordinates.\n",
    "    :param y_col: Column name for the y-axis coordinates.\n",
    "    :param grid_size: Size of the grid for the heatmap (number of bins along each axis).\n",
    "    :param cmap: Colormap for the heatmap.\n",
    "    \"\"\"\n",
    "    # Convert columns to numeric and handle non-numeric entries\n",
    "    df[x_col] = pd.to_numeric(df[x_col], errors='coerce')\n",
    "    df[y_col] = pd.to_numeric(df[y_col], errors='coerce')\n",
    "\n",
    "    # Drop rows where x or y is NaN\n",
    "    df = df.dropna(subset=[x_col, y_col])\n",
    "\n",
    "    if df.empty:\n",
    "        raise ValueError(\"DataFrame is empty after dropping NaNs\")\n",
    "\n",
    "    # Create a 2D histogram of the x and y coordinates\n",
    "    heatmap_data, x_edges, y_edges = np.histogram2d(df[x_col], df[y_col], bins=grid_size)\n",
    "\n",
    "    # Generate the heatmap\n",
    "    plt.figure(figsize=(10, 8))\n",
    "    sns.heatmap(np.flipud(heatmap_data), cmap=cmap)  # flipud to correct the y-axis orientation\n",
    "\n",
    "    # Optional: Adjust the labels, title, etc.\n",
    "    plt.xlabel(x_col)\n",
    "    plt.ylabel(y_col)\n",
    "    plt.title(\"Attention Heatmap\")\n",
    "\n",
    "    # Show the plot\n",
    "    plt.show()\n",
    "\n",
    "# Example usage\n",
    "data = {\n",
    "    'X_Coordinate': np.random.randint(0, 100, 200),  # Random example data\n",
    "    'Y_Coordinate': np.random.randint(0, 100, 200),\n",
    "}\n",
    "df = pd.DataFrame(data)\n",
    "generate_attention_heatmap(EyeTrackingData_df, 'RightEyeX', 'RightEyeY')#we only need 1 eye data\n"
   ],
   "metadata": {
    "collapsed": false,
    "ExecuteTime": {
     "end_time": "2023-12-13T12:10:55.238764200Z",
     "start_time": "2023-12-13T12:10:47.192033700Z"
    }
   },
   "id": "89bf2972ea107d94"
  },
  {
   "cell_type": "code",
   "execution_count": 47,
   "outputs": [
    {
     "data": {
      "text/plain": "Index(['id', 'sessionId', 'timestamp', 'LeftEyeValidity', 'LeftEyeX',\n       'LeftEyeY', 'RightEyeValidity', 'RightEyeX', 'RightEyeY'],\n      dtype='object')"
     },
     "execution_count": 47,
     "metadata": {},
     "output_type": "execute_result"
    }
   ],
   "source": [
    "EyeTrackingData_df.columns"
   ],
   "metadata": {
    "collapsed": false,
    "ExecuteTime": {
     "end_time": "2023-12-13T12:10:55.349081800Z",
     "start_time": "2023-12-13T12:10:55.246299700Z"
    }
   },
   "id": "3df730d8d3750ed6"
  },
  {
   "cell_type": "code",
   "execution_count": null,
   "outputs": [],
   "source": [],
   "metadata": {
    "collapsed": false
   },
   "id": "18f7b72ee8b9917b"
  }
 ],
 "metadata": {
  "kernelspec": {
   "display_name": "Python 3",
   "language": "python",
   "name": "python3"
  },
  "language_info": {
   "codemirror_mode": {
    "name": "ipython",
    "version": 2
   },
   "file_extension": ".py",
   "mimetype": "text/x-python",
   "name": "python",
   "nbconvert_exporter": "python",
   "pygments_lexer": "ipython2",
   "version": "2.7.6"
  }
 },
 "nbformat": 4,
 "nbformat_minor": 5
}
